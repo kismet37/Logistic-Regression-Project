{
 "cells": [
  {
   "cell_type": "markdown",
   "id": "c898c3a4",
   "metadata": {},
   "source": [
    "# Project 1\n",
    "\n",
    "## Task 1\n",
    "\n",
    "I want to be able to determine whether or not a tweet should be classified as cyberbullying or not cyberbullying so that tweets can be automatically flagged.  Logistic regression is the best choice for this case, because I would like to predict the binary output of either cyberbullying or not cyberbullying.\n",
    "\n",
    "\n",
    "## Task 2\n",
    "\n",
    "Dataset link: https://www.kaggle.com/datasets/andrewmvd/cyberbullying-classification/data\n"
   ]
  },
  {
   "cell_type": "markdown",
   "id": "be92fe44",
   "metadata": {},
   "source": []
  },
  {
   "cell_type": "code",
   "execution_count": null,
   "id": "3ffabdc9",
   "metadata": {},
   "outputs": [],
   "source": []
  }
 ],
 "metadata": {
  "kernelspec": {
   "display_name": "Python 3 (ipykernel)",
   "language": "python",
   "name": "python3"
  },
  "language_info": {
   "codemirror_mode": {
    "name": "ipython",
    "version": 3
   },
   "file_extension": ".py",
   "mimetype": "text/x-python",
   "name": "python",
   "nbconvert_exporter": "python",
   "pygments_lexer": "ipython3",
   "version": "3.11.5"
  }
 },
 "nbformat": 4,
 "nbformat_minor": 5
}
